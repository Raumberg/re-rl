{
 "cells": [
  {
   "cell_type": "code",
   "execution_count": 1,
   "metadata": {},
   "outputs": [],
   "source": [
    "from re_rl.dataset_generator import DatasetGenerator"
   ]
  },
  {
   "cell_type": "code",
   "execution_count": 2,
   "metadata": {},
   "outputs": [
    {
     "name": "stdout",
     "output_type": "stream",
     "text": [
      "Датасет сохранен в datasets/dataset_20250331_003911.json\n"
     ]
    }
   ],
   "source": [
    "generator = DatasetGenerator()\n",
    "dataset = generator.generate_dataset(\n",
    "    task_types=[\"linear\", \"quadratic\"],\n",
    "    languages=[\"ru\", \"en\"],\n",
    "    detail_levels=[1, 2, 3],\n",
    "    tasks_per_type=100\n",
    ")\n",
    "generator.save_dataset(dataset)"
   ]
  }
 ],
 "metadata": {
  "kernelspec": {
   "display_name": "re_rl",
   "language": "python",
   "name": "python3"
  },
  "language_info": {
   "codemirror_mode": {
    "name": "ipython",
    "version": 3
   },
   "file_extension": ".py",
   "mimetype": "text/x-python",
   "name": "python",
   "nbconvert_exporter": "python",
   "pygments_lexer": "ipython3",
   "version": "3.11.11"
  }
 },
 "nbformat": 4,
 "nbformat_minor": 2
}
